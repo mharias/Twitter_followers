{
 "cells": [
  {
   "cell_type": "code",
   "execution_count": 1,
   "metadata": {},
   "outputs": [],
   "source": [
    "import sys\n",
    "sys.path.append(\"/Users/waly/Documents/proyectos/mylibs\") # go to parent dir"
   ]
  },
  {
   "cell_type": "code",
   "execution_count": 2,
   "metadata": {},
   "outputs": [],
   "source": [
    "from pass_followers import consumer_key,consumer_secret,access_token,access_secret\n",
    "from pass_followers import sender_mypassword,sender_email,sender_smtp,receipt_email\n",
    "from pass_followers import path_followers_file_mac"
   ]
  },
  {
   "cell_type": "code",
   "execution_count": 3,
   "metadata": {},
   "outputs": [],
   "source": [
    "import os.path\n",
    "import twitter\n",
    "import smtplib"
   ]
  },
  {
   "cell_type": "code",
   "execution_count": 4,
   "metadata": {},
   "outputs": [],
   "source": [
    "\n",
    "def descarga_followers_actuales(consumer_key_,consumer_secret_,access_token_key_,access_token_secret_):\n",
    "    api=twitter.Api(consumer_key_,\n",
    "               consumer_secret_,\n",
    "               access_token_key_,\n",
    "               access_token_secret_,\n",
    "               sleep_on_rate_limit=True)\n",
    "    followers=api.GetFollowers()\n",
    "    followers_dict={}\n",
    "    for i in followers:\n",
    "        followers_dict[i.id_str]=i.screen_name\n",
    "    return followers_dict\n",
    "\n",
    "\n",
    "def guarda_followers(path,diccionario):\n",
    "    f = open(path,'w')\n",
    "    f.write(str(diccionario))\n",
    "    f.close()\n",
    "\n",
    "def recupera_followers_antiguos(path_file):\n",
    "    f = open(path_file,'r')\n",
    "    data=f.read()\n",
    "    f.close()\n",
    "    return eval(data)\n",
    "\n",
    "def chequeo_new_followers(lista_antigua,lista_actual):\n",
    "    nuevas=[]\n",
    "    for indice in lista_actual.keys():\n",
    "        if indice not in lista_antigua:\n",
    "            nuevas.append([indice,lista_actual[indice]])\n",
    "    return nuevas\n",
    "\n",
    "def chequeo_un_followers(lista_antigua,lista_actual):\n",
    "    borrados=[]\n",
    "    for indice in lista_antigua.keys():\n",
    "        if indice not in lista_actual:\n",
    "            borrados.append([indice,lista_antigua[indice]])\n",
    "    return borrados\n",
    "\n",
    "def server_connect(account, password, server, port=587):\n",
    "    if int(port) == 465:    # gmail server\n",
    "        email_server = smtplib.SMTP_SSL(server, str(port))\n",
    "    else:\n",
    "        email_server = smtplib.SMTP(server, port)\n",
    "        email_server.ehlo()\n",
    "        email_server.starttls()\n",
    "    email_server.login(account, password)\n",
    "    return email_server\n",
    "\n",
    "def envia_mail(cabecera='',nuevos=[],borrados=[],n=0):\n",
    "    \n",
    "    texto='From: Twitter waly'+'\\n'\n",
    "    texto+='To: Waly'+'\\n'\n",
    "    texto+=cabecera+'\\n'\n",
    "    #texto+='Subject: Actualización seguidores'+'\\n'\n",
    "    texto+='\\n'*2+'Actualización de seguidores de hoy: '+'\\n'\n",
    "    texto+='Nuevos followers:'\n",
    "    for i in nuevos:\n",
    "        texto+='\\n'\n",
    "        texto+='----------------------------------------------------------------------------------'\n",
    "        texto+='\\n'+'\\n'\n",
    "        texto+='{},{}'.format(i[0],i[1])\n",
    "        texto+='\\n'\n",
    "    \n",
    "    texto+='\\n'+'Unfollowers:'\n",
    "    for i in borrados:\n",
    "        texto+='\\n'\n",
    "        texto+='----------------------------------------------------------------------------------'\n",
    "        texto+='\\n'+'\\n'\n",
    "        texto+='{},{}'.format(i[0],i[1])\n",
    "        texto+='\\n'\n",
    "    texto+='\\n'+'{} seguidores actualmente'.format(n)\n",
    "    #texto=texto.encode('utf-8')\n",
    "    #print(texto)\n",
    "    \n",
    "    server=server_connect(sender_email,sender_mypassword,sender_smtp)\n",
    "    #server.sendmail('Licitaciones',delegaciones_short,texto.encode('utf-8'))\n",
    "    server.sendmail('Novedades',receipt_email,texto.encode('utf-8'))\n",
    "    server.close\n",
    "    return texto\n",
    "\n",
    "\n",
    "\n"
   ]
  },
  {
   "cell_type": "code",
   "execution_count": 6,
   "metadata": {},
   "outputs": [],
   "source": [
    "if __name__ == \"__main__\":\n",
    "    dict_actual=descarga_followers_actuales(consumer_key,consumer_secret,access_token,access_secret)\n",
    "    n=len(dict_actual)\n",
    "    try: \n",
    "        with open(path_followers_file_mac,\"r\") as f: #ya existe un fichero con seguidores\n",
    "            dict_antigua=eval(f.read())\n",
    "            novedades=chequeo_new_followers(dict_antigua,dict_actual)\n",
    "            borrados=chequeo_un_followers(dict_antigua,dict_actual)\n",
    "            texto=envia_mail('Subject: Actualización seguidores',novedades,borrados,n)\n",
    "            guarda_followers(path_followers_file_mac,dict_actual)\n",
    "    except IOError: #es la primera vez que se utiliza, luego no existe fichero con seguidores\n",
    "        #print ('error')\n",
    "        guarda_followers(path_followers_file_mac,dict_actual)\n",
    "        texto=envia_mail('Subject: Primer uso, actualización',[],[],n)"
   ]
  },
  {
   "cell_type": "code",
   "execution_count": null,
   "metadata": {},
   "outputs": [],
   "source": [
    "test"
   ]
  }
 ],
 "metadata": {
  "kernelspec": {
   "display_name": "Python 3",
   "language": "python",
   "name": "python3"
  },
  "language_info": {
   "codemirror_mode": {
    "name": "ipython",
    "version": 3
   },
   "file_extension": ".py",
   "mimetype": "text/x-python",
   "name": "python",
   "nbconvert_exporter": "python",
   "pygments_lexer": "ipython3",
   "version": "3.6.9"
  }
 },
 "nbformat": 4,
 "nbformat_minor": 2
}

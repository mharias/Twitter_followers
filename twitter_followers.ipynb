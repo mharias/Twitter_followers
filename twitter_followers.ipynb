{
 "cells": [
  {
   "cell_type": "markdown",
   "metadata": {},
   "source": [
    "## Gestión de followers de Twitter\n",
    "Autor : Manuel H. Arias, mharias@me.com"
   ]
  },
  {
   "cell_type": "markdown",
   "metadata": {},
   "source": [
    "Existen varias herramientas para gestionar cuentas de twitter que te permiten controlar el movimiento de seguidores: quien te sigue, te deja de seguir, etc...\n",
    "Para practicar un poco construyendo apps me he puesto a codificar un sencillo programa que te gestione los followers de tu cuenta sin necesidad de instalar las herramientas mencionadas. Este código puede ser el embrión sobre el que añadir más funcionalidades. Ahí queda trabajo pendiente. \n",
    "\n",
    "Antes de empezar con este código es necesario disponer de una clave de \"developer\" en twitter. No es muy complicado conseguirlo, tan sólo hay que describir que aplicación quieres construir, compromisos de uso de los datos que bajemos y poco más...en unos minutos dispones de las cuatro claves: consumer_key, consumer_secret, access_token y access secret. En el código de abajo recupero mis claves de un fichero que obviamente mantengo oculto. Estas cuatro claves permitirían acceso directo a la cuenta de twitter!.\n",
    "\n",
    "En este programa he añadido una función que me envíe un correo con el resumen de los cambios. Vd puede adecuarlo a sus necesidades o caprichos!, y de igual manera disponer de password, cuenta de correo desde la que envía el mensaje junto con su dirección del servidor smtp, y dirección del correo que recibe el mensaje.\n",
    "\n",
    "La lógica de este programa es muy sencilla : \n",
    "1. Carga desde twitter la lista de seguidores de la cuenta\n",
    "2. carga del disco local el fichero con los seguidores de la cuenta de la última vez que se ejecutó el programa\n",
    "3.  En el caso de que sea la primera vez que se ejecuta obviamente no existe ese fichero, con lo cual graba por primera vez ese fichero, envía un mail informando de este hecho y termina\n",
    "4. En el caso de que exista--> Con las dos listas disponibles : seguidores actuales y pasados (los correspondientes a la última vez que se ejecutó), realiza una comparación y obtiene la lista de nuevos seguidores y seguidores que lo han dejado de hacer (unfollowers) \n",
    "5. Prepara un mail con el resumen, lo envía, actualiza el fichero en disco para la siguiente ejecución y termina.\n",
    "\n",
    "En mi caso particular dispongo de una máquina virtual en Google, en la que he programado un crontab que ejecuta este programa diariamente, de tal manera que, sin intervención manual, recibo diariamente una actualización de mi cuenta Twitter (a propósito, mi usuario de twitter es [@walyt](https://twitter.com/walyt) ;-))..\n",
    "\n",
    "Vamos con el código:"
   ]
  },
  {
   "cell_type": "code",
   "execution_count": 1,
   "metadata": {},
   "outputs": [],
   "source": [
    "# variable de sistema para que pueda importa mi fichero pass_followers desde aquí..\n",
    "import sys\n",
    "sys.path.append(\"/Users/waly/Documents/proyectos/mylibs\") # directorio de acceso a librerías auxiliares"
   ]
  },
  {
   "cell_type": "code",
   "execution_count": 2,
   "metadata": {},
   "outputs": [],
   "source": [
    "# importo las variables con las claves, nombres de cuentas de correo, password etc..\n",
    "from pass_followers import consumer_key,consumer_secret,access_token,access_secret\n",
    "from pass_followers import sender_mypassword,sender_email,sender_smtp,receipt_email\n",
    "from pass_followers import path_followers_file_mac"
   ]
  },
  {
   "cell_type": "markdown",
   "metadata": {},
   "source": [
    "Utilizo la libreria [python-twitter](https://python-twitter.readthedocs.io/en/latest/index.html) para la interacción con Twitter, no he encontrado ningún problema para ponerla en marcha y dispone de una documentación muy extensa, guiando incluso el proceso para solicitar las claves en Twitter."
   ]
  },
  {
   "cell_type": "code",
   "execution_count": 7,
   "metadata": {},
   "outputs": [],
   "source": [
    "import twitter\n",
    "import smtplib"
   ]
  },
  {
   "cell_type": "code",
   "execution_count": 8,
   "metadata": {},
   "outputs": [],
   "source": [
    "# función que devuelve un diccionario con los seguidores de la cuenta, la cuenta está ya definida con las \n",
    "#cuatro claves\n",
    "def descarga_followers_actuales(consumer_key_,consumer_secret_,access_token_key_,access_token_secret_):\n",
    "    api=twitter.Api(consumer_key_,\n",
    "               consumer_secret_,\n",
    "               access_token_key_,\n",
    "               access_token_secret_,\n",
    "               sleep_on_rate_limit=True)\n",
    "    followers=api.GetFollowers()\n",
    "    followers_dict={}\n",
    "    for i in followers:\n",
    "        followers_dict[i.id_str]=i.screen_name\n",
    "    return followers_dict\n",
    "\n",
    "#función que graba en almacenamiento local el diccionario con los seguidores actuales, para poder trabajar\n",
    "#la próxima vez que se ejecute el programa\n",
    "def guarda_followers(path,diccionario):\n",
    "    f = open(path,'w')\n",
    "    f.write(str(diccionario))\n",
    "    f.close()\n",
    "\n",
    "#función que recupera de local el diccionario con los seguidores correspondientes a la última vez que se\n",
    "#ejecutó el programa\n",
    "def recupera_followers_antiguos(path_file):\n",
    "    f = open(path_file,'r')\n",
    "    data=f.read()\n",
    "    f.close()\n",
    "    return eval(data)\n",
    "\n",
    "#comparando la lista antugua(recuperada del disco local) y la lista_actual(desde twitter)\n",
    "# devuelve una lista de seguidores nuevos\n",
    "def chequeo_new_followers(lista_antigua,lista_actual):\n",
    "    nuevas=[]\n",
    "    for indice in lista_actual.keys():\n",
    "        if indice not in lista_antigua:\n",
    "            nuevas.append([indice,lista_actual[indice]])\n",
    "    return nuevas\n",
    "\n",
    "#comparando la lista antigua(recuperada del disco local) y la lista_actual(desde twitter)\n",
    "# devuelve una lista de unfollowers\n",
    "def chequeo_un_followers(lista_antigua,lista_actual):\n",
    "    borrados=[]\n",
    "    for indice in lista_antigua.keys():\n",
    "        if indice not in lista_actual:\n",
    "            borrados.append([indice,lista_antigua[indice]])\n",
    "    return borrados\n",
    "\n",
    "#genera un objeto email que se utilizará en la función siguiente para enviar el mensaje\n",
    "def server_connect(account, password, server, port=587):\n",
    "    if int(port) == 465:    # gmail server\n",
    "        email_server = smtplib.SMTP_SSL(server, str(port))\n",
    "    else:\n",
    "        email_server = smtplib.SMTP(server, port)\n",
    "        email_server.ehlo()\n",
    "        email_server.starttls()\n",
    "    email_server.login(account, password)\n",
    "    return email_server\n",
    "\n",
    "#envía un mensaje con la información que se pasa como parámetros:\n",
    "#cabecera : mensaje en el asunto del correo\n",
    "#nuevos : nuevos seguidores\n",
    "#borrados: unfollowers\n",
    "#n: número total seguidores actuales\n",
    "def envia_mail(cabecera='',nuevos=[],borrados=[],n=0):\n",
    "    \n",
    "    texto='From: Twitter waly'+'\\n'\n",
    "    texto+='To: Waly'+'\\n'\n",
    "    texto+=cabecera+'\\n'\n",
    "    #texto+='Subject: Actualización seguidores'+'\\n'\n",
    "    texto+='\\n'*2+'Actualización de seguidores de hoy: '+'\\n'\n",
    "    texto+='Nuevos followers:'\n",
    "    for i in nuevos:\n",
    "        texto+='\\n'\n",
    "        texto+='----------------------------------------------------------------------------------'\n",
    "        texto+='\\n'+'\\n'\n",
    "        texto+='{},{}'.format(i[0],i[1])\n",
    "        texto+='\\n'\n",
    "    \n",
    "    texto+='\\n'+'Unfollowers:'\n",
    "    for i in borrados:\n",
    "        texto+='\\n'\n",
    "        texto+='----------------------------------------------------------------------------------'\n",
    "        texto+='\\n'+'\\n'\n",
    "        texto+='{},{}'.format(i[0],i[1])\n",
    "        texto+='\\n'\n",
    "    texto+='\\n'+'{} seguidores actualmente'.format(n)\n",
    "    server=server_connect(sender_email,sender_mypassword,sender_smtp)\n",
    "    server.sendmail('Novedades',receipt_email,texto.encode('utf-8'))\n",
    "    server.close\n",
    "    return texto\n",
    "\n",
    "\n",
    "\n"
   ]
  },
  {
   "cell_type": "markdown",
   "metadata": {},
   "source": [
    "Este cuerpo principal ejecuta la lógica que comenté en la introducción de este post."
   ]
  },
  {
   "cell_type": "code",
   "execution_count": 5,
   "metadata": {},
   "outputs": [],
   "source": [
    "if __name__ == \"__main__\":\n",
    "    dict_actual=descarga_followers_actuales(consumer_key,consumer_secret,access_token,access_secret)\n",
    "    n=len(dict_actual)\n",
    "    try: \n",
    "        with open(path_followers_file_mac,\"r\") as f: #ya existe un fichero con seguidores\n",
    "            dict_antigua=eval(f.read())\n",
    "            novedades=chequeo_new_followers(dict_antigua,dict_actual)\n",
    "            borrados=chequeo_un_followers(dict_antigua,dict_actual)\n",
    "            texto=envia_mail('Subject: Actualización seguidores',novedades,borrados,n)\n",
    "            guarda_followers(path_followers_file_mac,dict_actual)\n",
    "    except IOError: #es la primera vez que se utiliza, luego no existe fichero con seguidores\n",
    "        #print ('error')\n",
    "        guarda_followers(path_followers_file_mac,dict_actual)\n",
    "        texto=envia_mail('Subject: Primer uso, actualización',[],[],n)"
   ]
  },
  {
   "cell_type": "markdown",
   "metadata": {},
   "source": [
    "Hemos visto una sencilla manera de gestionar seguidores en Twitter, sin necesidad de instalar herramientas externas. Este trabajo invita a implementar muchas más funcionalidades: análisis de seguidores, comportamiento, perfiles, impacto o involucración en trending topics...ya hay tarea!"
   ]
  },
  {
   "cell_type": "markdown",
   "metadata": {},
   "source": [
    "Este notebook y su código se encuentra en: https://github.com/mharias/Twitter_followers"
   ]
  },
  {
   "cell_type": "code",
   "execution_count": null,
   "metadata": {},
   "outputs": [],
   "source": []
  }
 ],
 "metadata": {
  "kernelspec": {
   "display_name": "Python 3",
   "language": "python",
   "name": "python3"
  },
  "language_info": {
   "codemirror_mode": {
    "name": "ipython",
    "version": 3
   },
   "file_extension": ".py",
   "mimetype": "text/x-python",
   "name": "python",
   "nbconvert_exporter": "python",
   "pygments_lexer": "ipython3",
   "version": "3.6.9"
  }
 },
 "nbformat": 4,
 "nbformat_minor": 2
}
